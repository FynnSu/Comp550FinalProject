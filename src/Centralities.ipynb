{
 "cells": [
  {
   "cell_type": "code",
   "execution_count": 62,
   "id": "e8e0e61c",
   "metadata": {},
   "outputs": [],
   "source": [
    "import csv\n",
    "import os\n",
    "from scipy import stats"
   ]
  },
  {
   "cell_type": "code",
   "execution_count": 9,
   "id": "a544e95f",
   "metadata": {},
   "outputs": [],
   "source": [
    "#turn weight csv to dict\n",
    "#method to read in csv and turn contents into a dict\n",
    "def weightcsvToDict(subreddit):\n",
    "    \n",
    "    d = dict()\n",
    "    \n",
    "    #path = \"weights/\" + subreddit + \".csv\"\n",
    "    f = open(subreddit)\n",
    "    \n",
    "    for line in f:\n",
    "        line = line.strip('\\n')\n",
    "        (val, key) = line.split(\",\")\n",
    "        d[key] = val\n",
    "    \n",
    "    d.pop(\"feature\")\n",
    "    \n",
    "    return d"
   ]
  },
  {
   "cell_type": "code",
   "execution_count": 22,
   "id": "a317c412",
   "metadata": {},
   "outputs": [],
   "source": [
    "#turn centrality csv to dict\n",
    "#method to read in csv and turn contents into a dict\n",
    "def centralitycsvToDict(subreddit):\n",
    "    \n",
    "    d = dict()\n",
    "    \n",
    "    #path = \"weights/\" + subreddit + \".csv\"\n",
    "    f = open(subreddit)\n",
    "    \n",
    "    for line in f:\n",
    "        line = line.strip('\\n')\n",
    "        (ind, val, key) = line.split(\",\")\n",
    "        d[key] = val\n",
    "    \n",
    "    d.pop(\"1\")\n",
    "    \n",
    "    return d"
   ]
  },
  {
   "cell_type": "code",
   "execution_count": 38,
   "id": "66141b21",
   "metadata": {},
   "outputs": [],
   "source": [
    "# w=weightcsvToDict(\"../weights/AskMen.csv\")\n",
    "# c=centralitycsvToDict(\"../centralities/AskMen.csv\")\n",
    "\n",
    "# sw=sorted(w)\n",
    "# sc=sorted(c)"
   ]
  },
  {
   "cell_type": "code",
   "execution_count": 42,
   "id": "e7356055",
   "metadata": {},
   "outputs": [],
   "source": [
    "#for k in sw:\n",
    "#    print(f\"{k}, {w[k]}\")"
   ]
  },
  {
   "cell_type": "code",
   "execution_count": 43,
   "id": "8ba5c488",
   "metadata": {},
   "outputs": [],
   "source": [
    "#for k in sc:\n",
    "#    print(f\"{k}, {c[k]}\")"
   ]
  },
  {
   "cell_type": "code",
   "execution_count": 52,
   "id": "34c93867",
   "metadata": {},
   "outputs": [],
   "source": [
    "#method to sort a dict by key\n",
    "def sortByKey(d):\n",
    "    \n",
    "    result = {}\n",
    "    \n",
    "    for k in sorted(d):\n",
    "        result[k] = d[k]\n",
    "        \n",
    "    return result"
   ]
  },
  {
   "cell_type": "code",
   "execution_count": 55,
   "id": "c6083759",
   "metadata": {},
   "outputs": [],
   "source": [
    "#list of weight dicts\n",
    "\n",
    "#get a list of all files in dir\n",
    "wdirectory = '../weights'\n",
    "weightsFileList = []\n",
    "weightsFileNames = []\n",
    "for filename in os.listdir(wdirectory):\n",
    "    p = os.path.join(wdirectory, filename)\n",
    "    weightsFileList.append(p)\n",
    "    weightsFileNames.append(filename)\n",
    "    \n",
    "#put all dicts into a list\n",
    "allWeightDicts = []\n",
    "for f in weightsFileList:\n",
    "    dt = sortByKey(weightcsvToDict(f))\n",
    "    allWeightDicts.append(dt)"
   ]
  },
  {
   "cell_type": "code",
   "execution_count": 56,
   "id": "596ba090",
   "metadata": {},
   "outputs": [],
   "source": [
    "#list of centrality dicts\n",
    "\n",
    "#get a list of all files in dir\n",
    "cdirectory = '../centralities'\n",
    "centralitiesFileList = []\n",
    "centralitiesFileNames = []\n",
    "for filename in os.listdir(cdirectory):\n",
    "    p = os.path.join(cdirectory, filename)\n",
    "    centralitiesFileList.append(p)\n",
    "    centralitiesFileNames.append(filename)\n",
    "    \n",
    "#put all dicts into a list\n",
    "allCentralityDicts = []\n",
    "for f in centralitiesFileList:\n",
    "    dt = sortByKey(centralitycsvToDict(f))\n",
    "    allCentralityDicts.append(dt)"
   ]
  },
  {
   "cell_type": "code",
   "execution_count": 76,
   "id": "69e64024",
   "metadata": {},
   "outputs": [],
   "source": [
    "# v1=list(allWeightDicts[0].values())\n",
    "# v2=list(allCentralityDicts[0].values())"
   ]
  },
  {
   "cell_type": "code",
   "execution_count": 85,
   "id": "b47f0947",
   "metadata": {},
   "outputs": [],
   "source": [
    "# for i in range(len(v1)):\n",
    "#     v1[i] = float(v1[i])\n",
    "    \n",
    "# for i in range(len(v2)):\n",
    "#     v2[i] = float(v2[i])"
   ]
  },
  {
   "cell_type": "code",
   "execution_count": 82,
   "id": "2b3838d5",
   "metadata": {},
   "outputs": [
    {
     "data": {
      "text/plain": [
       "(0.02257018734556462, 0.08810138412355048)"
      ]
     },
     "execution_count": 82,
     "metadata": {},
     "output_type": "execute_result"
    }
   ],
   "source": [
    "#stats.pearsonr(v1, v2)"
   ]
  },
  {
   "cell_type": "code",
   "execution_count": 113,
   "id": "c4812bb0",
   "metadata": {},
   "outputs": [],
   "source": [
    "#method that returns a list of all features\n",
    "def getIntersection(d1, d2):\n",
    "    \n",
    "    d = dict()\n",
    "    \n",
    "    s1 = set(d1)\n",
    "    s2 = set(d2)\n",
    "\n",
    "    for feature in s1.intersection(s2):\n",
    "        d[feature] = (d1[feature], d2[feature])\n",
    "        #print(f\"{feature}: {d1[feature]}, {d1[feature]}\")\n",
    "    \n",
    "    return d"
   ]
  },
  {
   "cell_type": "code",
   "execution_count": 133,
   "id": "00ce9f77",
   "metadata": {},
   "outputs": [],
   "source": [
    "#method that takes in a subreddit and returns corr of weights and centralities\n",
    "def getCorr(wDict, cDict):\n",
    "    \n",
    "    d=getIntersection(wDict, cDict)\n",
    "    \n",
    "    v1 = []\n",
    "    v2 = []\n",
    "    \n",
    "    for k in d:\n",
    "        v1.append(d[k][0])\n",
    "        v2.append(d[k][1])\n",
    "    \n",
    "    #v1=list(wDict.values())\n",
    "    #v2=list(cDict.values())\n",
    "    \n",
    "    #if len(v1) != len(v2):\n",
    "    #    return\n",
    "    \n",
    "    for i in range(len(v1)):\n",
    "        v1[i] = float(v1[i])\n",
    "    \n",
    "    for i in range(len(v2)):\n",
    "        v2[i] = float(v2[i])\n",
    "    \n",
    "    return stats.pearsonr(v1, v2)"
   ]
  },
  {
   "cell_type": "code",
   "execution_count": 134,
   "id": "d05fb433",
   "metadata": {},
   "outputs": [
    {
     "data": {
      "text/plain": [
       "(0.022570187345564617, 0.08810138412355048)"
      ]
     },
     "execution_count": 134,
     "metadata": {},
     "output_type": "execute_result"
    }
   ],
   "source": [
    "getCorr(allWeightDicts[0], allCentralityDicts[0])"
   ]
  },
  {
   "cell_type": "code",
   "execution_count": 143,
   "id": "b8820366",
   "metadata": {},
   "outputs": [],
   "source": [
    "finalDict = {}\n",
    "\n",
    "for i in range(len(allWeightDicts)):\n",
    "    x=getCorr(allWeightDicts[i], allCentralityDicts[i])\n",
    "    name = weightsFileNames[i].split('.')[0]\n",
    "    finalDict[name] = x[0]"
   ]
  },
  {
   "cell_type": "code",
   "execution_count": 145,
   "id": "2dc957ee",
   "metadata": {},
   "outputs": [
    {
     "data": {
      "text/plain": [
       "{'TrueUnpopularOpinion': 0.15772605944556695,\n",
       " 'news': 0.09624514898524408,\n",
       " 'worldnews': 0.09378449901033208,\n",
       " 'RedPillWomen': 0.060752929942487974,\n",
       " 'nba': 0.05977861955542471,\n",
       " 'MaliciousCompliance': 0.057468478404774044,\n",
       " 'anime': 0.055539423827778066,\n",
       " 'Twitch': 0.05294398920310522,\n",
       " 'Games': 0.05056986548148319,\n",
       " 'todayilearned': 0.048787180341776946,\n",
       " 'politics': 0.04684645614524181,\n",
       " 'personalfinance': 0.04597961174050659,\n",
       " 'movies': 0.04562069705798781,\n",
       " 'Conservative': 0.045440828483163984,\n",
       " 'Minecraft': 0.042802617027364355,\n",
       " 'nfl': 0.040054262590936085,\n",
       " 'leagueoflegends': 0.03791202122203246,\n",
       " 'IAmA': 0.0361539970661069,\n",
       " 'Cooking': 0.03515498568858452,\n",
       " 'FemaleDatingStrategy': 0.03314382642958864,\n",
       " 'Fitness': 0.030753494234032175,\n",
       " 'Piracy': 0.02989454418661868,\n",
       " 'MensRights': 0.025971968156630207,\n",
       " 'relationships': 0.025566413575618473,\n",
       " 'mildlyinteresting': 0.024890852415230535,\n",
       " 'AskMen': 0.02345773485967377,\n",
       " 'tifu': 0.023377038210852373,\n",
       " 'explainlikeimfive': 0.022570187345564617,\n",
       " 'copypasta': 0.02239086094891412,\n",
       " 'NintendoSwitch': 0.02191098802192415,\n",
       " 'techsupport': 0.02026767513490411,\n",
       " 'buildapc': 0.019665982647168054,\n",
       " 'relationship_advice': 0.01797782300916652,\n",
       " 'cursedcomments': 0.017854235693217813,\n",
       " 'australia': 0.016513725370780663,\n",
       " 'sex': 0.014632528009689071,\n",
       " 'soccer': 0.013997222029966984,\n",
       " 'apple': 0.013369870317237935,\n",
       " 'LifeProTips': 0.012517701018013146,\n",
       " 'sysadmin': 0.011930895928197594,\n",
       " 'NoStupidQuestions': 0.005148083902524622,\n",
       " 'AskReddit': 0.0031600888785837666,\n",
       " 'AgainstHateSubreddits': 0.0016024657359867429,\n",
       " 'baseball': 0.0013559500185771761,\n",
       " 'AmItheAsshole': 0.00017329074714040682,\n",
       " 'TrueOffMyChest': -0.0019809328643529186,\n",
       " 'CryptoCurrency': -0.00373237447468363,\n",
       " 'askscience': -0.005576866322996813,\n",
       " 'TwoXChromosomes': -0.01255621221569525,\n",
       " 'NoFap': -0.01448321501015045,\n",
       " 'AskWomen': -0.015395091098932393,\n",
       " 'teenagers': -0.022190325559873752,\n",
       " 'Tinder': -0.02556980769210693,\n",
       " 'unpopularopinion': -0.03459198128760546,\n",
       " 'CasualUK': -0.04299050160917488,\n",
       " 'Liberal': -0.04451437491883284,\n",
       " 'antiwork': -0.04736322473034656,\n",
       " 'Jokes': -0.050910355092637714}"
      ]
     },
     "execution_count": 145,
     "metadata": {},
     "output_type": "execute_result"
    }
   ],
   "source": [
    "{k: v for k, v in sorted(finalDict.items(), key=lambda item: item[1], reverse = True)}"
   ]
  },
  {
   "cell_type": "code",
   "execution_count": 146,
   "id": "108f08c9",
   "metadata": {},
   "outputs": [],
   "source": [
    "with open('weightContCorr.csv', 'w') as csvfile:\n",
    "    \n",
    "    csvwriter = csv.writer(csvfile)\n",
    "    \n",
    "    fields = ['subreddit', 'correlation']\n",
    "    csvwriter.writerow(fields)\n",
    "\n",
    "    for k, v in sorted(finalDict.items(), key=lambda item: item[1], reverse = True):\n",
    "        r = [k, v]\n",
    "        csvwriter.writerow(r)"
   ]
  },
  {
   "cell_type": "code",
   "execution_count": null,
   "id": "15c82928",
   "metadata": {},
   "outputs": [],
   "source": []
  }
 ],
 "metadata": {
  "kernelspec": {
   "display_name": "Python 3",
   "language": "python",
   "name": "python3"
  },
  "language_info": {
   "codemirror_mode": {
    "name": "ipython",
    "version": 3
   },
   "file_extension": ".py",
   "mimetype": "text/x-python",
   "name": "python",
   "nbconvert_exporter": "python",
   "pygments_lexer": "ipython3",
   "version": "3.8.8"
  }
 },
 "nbformat": 4,
 "nbformat_minor": 5
}
